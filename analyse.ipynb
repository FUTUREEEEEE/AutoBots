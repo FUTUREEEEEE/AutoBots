{
 "cells": [
  {
   "cell_type": "code",
   "execution_count": 12,
   "metadata": {},
   "outputs": [],
   "source": [
    "import numpy as np\n",
    "\n",
    "import h5py\n",
    "import glob\n",
    "from sklearn.metrics import euclidean_distances\n",
    "import matplotlib.pyplot as plt\n",
    "import pickle\n",
    "\n",
    "import math"
   ]
  },
  {
   "cell_type": "code",
   "execution_count": 3,
   "metadata": {},
   "outputs": [],
   "source": [
    "data_dir='/root/autodl-tmp/interaction/dataset/MS-data/Roundabout/train_dataset.hdf5'\n",
    "map_dir='/root/autodl-tmp/interaction/dataset/MS-data/Roundabout/maps/*.osm'"
   ]
  },
  {
   "cell_type": "code",
   "execution_count": 4,
   "metadata": {},
   "outputs": [],
   "source": [
    "with open('roads.pkl', 'rb') as f:\n",
    "    map = pickle.load(f) # 从文件f中读取d"
   ]
  },
  {
   "cell_type": "code",
   "execution_count": null,
   "metadata": {},
   "outputs": [],
   "source": []
  },
  {
   "cell_type": "code",
   "execution_count": 5,
   "metadata": {},
   "outputs": [],
   "source": [
    "def split_input_output_normalize( agents_data, meta_data, agent_types):\n",
    "\n",
    "    in_horizon = 5\n",
    "    num_others = 8\n",
    "\n",
    "    agent_masks = np.expand_dims(agents_data[:, :, 0] != -1, axis=-1).astype(np.float32)  # existence mask\n",
    "    agents_data[:, :, :2] -= np.array([[meta_data[0], meta_data[1]]])  # Normalize with translation only  from xmin, ymin\n",
    "    agents_data = np.nan_to_num(agents_data, nan=-1.0)  # pedestrians have nans instead of yaw and size\n",
    "    agents_data = np.concatenate([agents_data, agent_masks], axis=-1)\n",
    "\n",
    "    dists = euclidean_distances(agents_data[:, in_horizon - 1, :2], agents_data[:, in_horizon - 1, :2])\n",
    "    agent_masks[agent_masks == 0] = np.nan\n",
    "    dists *= agent_masks[:, in_horizon - 1]\n",
    "    dists *= agent_masks[:, in_horizon - 1].transpose()\n",
    "    ego_idx = np.random.randint(0, int(np.nansum(agent_masks[:, in_horizon - 1])))\n",
    "    closest_agents = np.argsort(dists[ego_idx])\n",
    "    agents_data = agents_data[closest_agents[:num_others + 1]]\n",
    "    agent_types = agent_types[closest_agents[:num_others + 1]]\n",
    "\n",
    "    agents_in = agents_data[1:(num_others + 1), :in_horizon]\n",
    "    agents_out = agents_data[1:(num_others + 1), in_horizon:, [0, 1, 4, 7]]  # returning positions and yaws\n",
    "    ego_in = agents_data[0, :in_horizon]\n",
    "    ego_out = agents_data[0, in_horizon:]\n",
    "    ego_out = ego_out[:, [0, 1, 4, 7]]  # returning positions and yaws\n",
    "\n",
    "    return ego_in, ego_out, agents_in, agents_out, agent_types\n",
    "\n",
    "def copy_agent_roads_across_agents( agents_in, roads):\n",
    "    num_others = 8\n",
    "    \n",
    "    new_roads = np.zeros((num_others + 1, *roads.shape))\n",
    "    new_roads[0] = roads  # ego\n",
    "    for n in range(num_others):\n",
    "        if agents_in[n, -1, -1]:\n",
    "            new_roads[n + 1] = roads\n",
    "    return new_roads"
   ]
  },
  {
   "cell_type": "code",
   "execution_count": 6,
   "metadata": {},
   "outputs": [
    {
     "data": {
      "text/plain": [
       "dict_keys(['DR_USA_Roundabout_SR.osm', 'DR_CHN_Merging_ZS0.osm', 'DR_Merging_TR0.osm', 'DR_CHN_Merging_ZS2.osm', 'DR_USA_Roundabout_EP.osm', 'DR_CHN_Roundabout_LN.osm', 'DR_Merging_TR1.osm', 'DR_USA_Roundabout_FT.osm', 'DR_DEU_Roundabout_OF.osm', 'DR_DEU_Merging_MT.osm', 'DR_Roundabout_RW.osm', 'DR_USA_Intersection_EP0.osm', 'DR_USA_Intersection_GL.osm', 'DR_LaneChange_ET1.osm', 'DR_Intersection_CM.osm', 'DR_LaneChange_ET0.osm', 'DR_USA_Intersection_MA.osm', 'DR_USA_Intersection_EP1.osm'])"
      ]
     },
     "execution_count": 6,
     "metadata": {},
     "output_type": "execute_result"
    }
   ],
   "source": [
    "map.keys()"
   ]
  },
  {
   "cell_type": "code",
   "execution_count": 21,
   "metadata": {},
   "outputs": [],
   "source": [
    "def _plot_debug(ego_in, ego_out, agents_in, agents_out, roads,idx):\n",
    "    num_others = 8\n",
    "    for n in range(num_others + 1):\n",
    "        plt.figure()\n",
    "        if n == 0:\n",
    "            plt.scatter(ego_in[:, 0], ego_in[:, 1], color='k')\n",
    "            plt.scatter(ego_out[:, 0], ego_out[:, 1], color='m')\n",
    "        else:\n",
    "            if agents_in[n - 1, -1, -1]:\n",
    "                plt.scatter(agents_in[n - 1, :, 0], agents_in[n - 1, :, 1], color='k')\n",
    "                plt.scatter(agents_out[n - 1, :, 0], agents_out[n - 1, :, 1], color='m')\n",
    "        for s in range(roads.shape[1]):\n",
    "            for p in range(roads.shape[2]):\n",
    "                if roads[n, s, p, -1]:\n",
    "                    plt.scatter(roads[n, s, p, 0], roads[n, s, p, 1], color='g',s=1)\n",
    "        \n",
    "        \n",
    "        plt.show()\n",
    "        # plt.savefig(f\"pics/{n}_{idx}.png\")\n",
    "        # if n>1:\n",
    "        break"
   ]
  },
  {
   "cell_type": "code",
   "execution_count": 9,
   "metadata": {},
   "outputs": [],
   "source": [
    "def rotate_pc(pc, alpha):\n",
    "    M = np.array([[np.cos(alpha), -np.sin(alpha)],\n",
    "                [np.sin(alpha), np.cos(alpha)]])\n",
    "    if len(pc.shape)==3:\n",
    "        return (M @ pc.swapaxes(1,2)).swapaxes(1,2)\n",
    "    else:\n",
    "        return (M @ pc.T).T"
   ]
  },
  {
   "cell_type": "code",
   "execution_count": 52,
   "metadata": {},
   "outputs": [
    {
     "data": {
      "image/png": "[encoded data removed]",
      "text/plain": [
       "<Figure size 432x288 with 1 Axes>"
      ]
     },
     "metadata": {
      "needs_background": "light"
     },
     "output_type": "display_data"
    }
   ],
   "source": [
    "idx=0\n",
    "max_num_road_segs = 78\n",
    "\n",
    "if self.augment_data:\n",
    "    rand_angle = np.random.uniform(-180, 180) # 生成一个-180到180之间的随机数\n",
    "    rand_angle = np.round(rand_angle / 15) * 15 # 对其除以15并四舍五入，再乘以15\n",
    "\n",
    "    angle=math.radians(rand_angle)\n",
    "\n",
    "dataset = h5py.File(data_dir, 'r')\n",
    "agents_data = dataset['agents_trajectories'][idx]  #'x', 'y', 'vx', 'vy', 'psi_rad', 'length', 'width'        \n",
    "agent_types = dataset['agents_types'][idx]\n",
    "meta_data = dataset['metas'][idx]\n",
    "\n",
    "if self.augment_data:\n",
    "    agents_data[:,:,4]=(agents_data[:,:,4]+angle) #左乘旋转矩阵相当于逆时针旋转，\n",
    "\n",
    "    psi_rad=agents_data[:,:,4]\n",
    "    psi_rad=np.where(psi_rad>np.pi,psi_rad-2*np.pi,psi_rad)\n",
    "    psi_rad=np.where(psi_rad<-np.pi,psi_rad+2*np.pi,psi_rad)\n",
    "    agents_data[:,:,4]=psi_rad\n",
    "\n",
    "agents_data = agents_data[:, 1::2]\n",
    "\n",
    "road_fname_key = dataset['map_paths'][idx][0].decode(\"utf-8\").split(\"/\")[-1]\n",
    "roads = map[road_fname_key].copy()\n",
    "\n",
    "\n",
    "# meta_data[:2]=rotate_pc(meta_data[:2],angle)\n",
    "\n",
    "\n",
    "roads[:, :, :2] -= np.expand_dims(np.array([meta_data[:2]]), 0)  # 把map转到局部坐标\n",
    "\n",
    "original_roads = np.zeros((max_num_road_segs, *roads.shape[1:]))\n",
    "original_roads[:len(roads)] = roads\n",
    "roads = original_roads.copy()\n",
    "\n",
    "#ego_in output : 'x', 'y', 'vx', 'vy', 'psi_rad', 'length', 'width' 'mask'\n",
    "np.random.seed(1)\n",
    "ego_in, ego_out, agents_in, agents_out, agent_types = split_input_output_normalize(agents_data, meta_data,\n",
    "                                                                                        agent_types)\n",
    "if self.augment_data:\n",
    "    ego_in[:,:2]=rotate_pc(ego_in[:,:2],angle)\n",
    "    ego_in[:,2:4]=rotate_pc(ego_in[:,2:4],angle)\n",
    "\n",
    "\n",
    "    ego_out[:,:2]=rotate_pc(ego_out[:,:2],angle)\n",
    "\n",
    "    agents_in[:,:,:2]=rotate_pc(agents_in[:,:,:2],angle)\n",
    "    agents_in[:,:,2:4]=rotate_pc(agents_in[:,:,2:4],angle)\n",
    "\n",
    "    agents_out[:,:,:2]=rotate_pc(agents_out[:,:,:2],angle)\n",
    "\n",
    "    roads[:, :, :2]=rotate_pc(roads[:, :, :2],angle)\n",
    "\n",
    "roads = copy_agent_roads_across_agents(agents_in, roads)\n",
    "\n",
    "\n",
    "_plot_debug(ego_in, ego_out, agents_in, agents_out, roads,idx)"
   ]
  },
  {
   "cell_type": "code",
   "execution_count": 56,
   "metadata": {},
   "outputs": [
    {
     "data": {
      "text/plain": [
       "44.74663298449818"
      ]
     },
     "execution_count": 56,
     "metadata": {},
     "output_type": "execute_result"
    }
   ],
   "source": [
    "math.degrees(angle)"
   ]
  },
  {
   "cell_type": "code",
   "execution_count": 57,
   "metadata": {},
   "outputs": [
    {
     "data": {
      "text/plain": [
       "-120.32251121153388"
      ]
     },
     "execution_count": 57,
     "metadata": {},
     "output_type": "execute_result"
    }
   ],
   "source": [
    "math.degrees(ego_in[:,4][-1])\n"
   ]
  },
  {
   "cell_type": "code",
   "execution_count": 53,
   "metadata": {},
   "outputs": [
    {
     "data": {
      "text/plain": [
       "array([-2.086024 , -2.088024 , -2.0920238, -2.096024 , -2.100024 ],\n",
       "      dtype=float32)"
      ]
     },
     "execution_count": 53,
     "metadata": {},
     "output_type": "execute_result"
    }
   ],
   "source": [
    "ego_in[:,4]"
   ]
  },
  {
   "cell_type": "code",
   "execution_count": 26,
   "metadata": {},
   "outputs": [
    {
     "data": {
      "text/plain": [
       "(50, 20, 7)"
      ]
     },
     "execution_count": 26,
     "metadata": {},
     "output_type": "execute_result"
    }
   ],
   "source": [
    "agents_data.shape"
   ]
  },
  {
   "cell_type": "code",
   "execution_count": 31,
   "metadata": {},
   "outputs": [
    {
     "data": {
      "text/plain": [
       "2.989"
      ]
     },
     "execution_count": 31,
     "metadata": {},
     "output_type": "execute_result"
    }
   ],
   "source": [
    "np.nanmax(agents_data[:,:,4])"
   ]
  },
  {
   "cell_type": "code",
   "execution_count": 32,
   "metadata": {},
   "outputs": [
    {
     "data": {
      "text/plain": [
       "-3.047"
      ]
     },
     "execution_count": 32,
     "metadata": {},
     "output_type": "execute_result"
    }
   ],
   "source": [
    "np.nanmin(agents_data[:,:,4])\n"
   ]
  },
  {
   "cell_type": "code",
   "execution_count": 35,
   "metadata": {},
   "outputs": [
    {
     "data": {
      "text/plain": [
       "-3.045"
      ]
     },
     "execution_count": 35,
     "metadata": {},
     "output_type": "execute_result"
    }
   ],
   "source": [
    "agents_data[2,0,4]"
   ]
  },
  {
   "cell_type": "code",
   "execution_count": 36,
   "metadata": {},
   "outputs": [
    {
     "data": {
      "text/plain": [
       "0.0"
      ]
     },
     "execution_count": 36,
     "metadata": {},
     "output_type": "execute_result"
    }
   ],
   "source": [
    "np.arctan2(agents_data[2,0,2],agents_data[2,0,3])"
   ]
  },
  {
   "cell_type": "code",
   "execution_count": 48,
   "metadata": {},
   "outputs": [],
   "source": [
    "psi_rad=agents_data[:,:,4]\n",
    "\n",
    "psi_rad=np.where(psi_rad>np.pi,psi_rad-2*np.pi,psi_rad)\n",
    "psi_rad=np.where(psi_rad<-np.pi,psi_rad+2*np.pi,psi_rad)\n",
    "\n",
    "agents_data[:,:,4]=psi_rad\n",
    "# agents_data[:,:,4]=(agents_data[:,:,4]+angle) #左乘旋转矩阵相当于逆时针旋转，\n",
    "# agents_data[:,:,4]=agents_data[agents_data[:,:,4]>np.pi]-2*np.pi  #重新换算到-pi~pi\n",
    "# agents_data[:,:,4]=agents_data[agents_data[:,:,4]<-np.pi]+2*np.pi"
   ]
  },
  {
   "cell_type": "code",
   "execution_count": 49,
   "metadata": {},
   "outputs": [
    {
     "data": {
      "text/plain": [
       "(50, 20)"
      ]
     },
     "execution_count": 49,
     "metadata": {},
     "output_type": "execute_result"
    }
   ],
   "source": [
    "psi_rad.shape"
   ]
  },
  {
   "cell_type": "code",
   "execution_count": 50,
   "metadata": {},
   "outputs": [],
   "source": [
    "\n",
    "psi_rad+=1"
   ]
  },
  {
   "cell_type": "code",
   "execution_count": 64,
   "metadata": {},
   "outputs": [],
   "source": [
    "x = np.random.uniform(-180, 180) # 生成一个-180到180之间的随机数\n",
    "x = np.round(x / 15) * 15"
   ]
  },
  {
   "cell_type": "code",
   "execution_count": 65,
   "metadata": {},
   "outputs": [
    {
     "data": {
      "text/plain": [
       "180.0"
      ]
     },
     "execution_count": 65,
     "metadata": {},
     "output_type": "execute_result"
    }
   ],
   "source": [
    "x"
   ]
  },
  {
   "cell_type": "code",
   "execution_count": null,
   "metadata": {},
   "outputs": [],
   "source": []
  }
 ],
 "metadata": {
  "kernelspec": {
   "display_name": "fgnet",
   "language": "python",
   "name": "python3"
  },
  "language_info": {
   "codemirror_mode": {
    "name": "ipython",
    "version": 3
   },
   "file_extension": ".py",
   "mimetype": "text/x-python",
   "name": "python",
   "nbconvert_exporter": "python",
   "pygments_lexer": "ipython3",
   "version": "3.9.16"
  },
  "orig_nbformat": 4,
  "vscode": {
   "interpreter": {
    "hash": "9525dd0fc348cd0c973d2077e37fc0d0597943d8f3669cb05eb2c165a49ef7dd"
   }
  }
 },
 "nbformat": 4,
 "nbformat_minor": 2
}
